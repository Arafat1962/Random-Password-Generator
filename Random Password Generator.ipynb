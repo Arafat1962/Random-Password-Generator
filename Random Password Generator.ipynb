{
  "nbformat": 4,
  "nbformat_minor": 0,
  "metadata": {
    "colab": {
      "provenance": [],
      "authorship_tag": "ABX9TyOzf2XaUpCl2xlmre5FH0Di",
      "include_colab_link": true
    },
    "kernelspec": {
      "name": "python3",
      "display_name": "Python 3"
    },
    "language_info": {
      "name": "python"
    }
  },
  "cells": [
    {
      "cell_type": "markdown",
      "metadata": {
        "id": "view-in-github",
        "colab_type": "text"
      },
      "source": [
        "<a href=\"https://colab.research.google.com/github/Arafat1962/Random-Password-Generator/blob/main/Random%20Password%20Generator.ipynb\" target=\"_parent\"><img src=\"https://colab.research.google.com/assets/colab-badge.svg\" alt=\"Open In Colab\"/></a>"
      ]
    },
    {
      "cell_type": "code",
      "execution_count": 2,
      "metadata": {
        "colab": {
          "base_uri": "https://localhost:8080/"
        },
        "id": "DQ97LeOLxA6r",
        "outputId": "a405be85-3ba4-4503-d014-f0607d3ddd69"
      },
      "outputs": [
        {
          "output_type": "stream",
          "name": "stdout",
          "text": [
            "Enter desired password length: 50\n",
            "Include digits? (yes/no): yes\n",
            "Include special characters? (yes/no): no\n",
            "Your password is ready: 9FhVIFMPqzk3aQ0QaedkgZ8d4Xq3zubIeorauOaePgjbgt3Rsb\n"
          ]
        }
      ],
      "source": [
        "import random\n",
        "import string\n",
        "\n",
        "# Function to generate a random password\n",
        "def password_generator():\n",
        "    # Prompt the user for password criteria\n",
        "    p_len = int(input(\"Enter desired password length: \"))  # Convert to integer\n",
        "    use_digits = input(\"Include digits? (yes/no): \")\n",
        "    use_special = input(\"Include special characters? (yes/no): \")\n",
        "\n",
        "    # Define character pool (default: letters)\n",
        "    chars = string.ascii_letters\n",
        "\n",
        "    # Add digits to the character pool if requested\n",
        "    if use_digits.lower() == 'yes':\n",
        "        chars += string.digits\n",
        "\n",
        "    # Add special characters to the character pool if requested\n",
        "    if use_special.lower() == 'yes':\n",
        "        chars += string.punctuation\n",
        "\n",
        "    # Generate the password\n",
        "    password = ''.join(random.choice(chars) for _ in range(p_len))\n",
        "\n",
        "    # Display the generated password\n",
        "    print(\"Your password is ready:\", password)\n",
        "\n",
        "# Main program\n",
        "if __name__ == '__main__':\n",
        "    password_generator()\n"
      ]
    }
  ]
}